{
 "metadata": {
  "name": "ipythonblocks Demo"
 },
 "nbformat": 3,
 "nbformat_minor": 0,
 "worksheets": [
  {
   "cells": [
    {
     "cell_type": "code",
     "collapsed": false,
     "input": [
      "from ipythonblocks import BlockGrid"
     ],
     "language": "python",
     "metadata": {},
     "outputs": [],
     "prompt_number": 1
    },
    {
     "cell_type": "code",
     "collapsed": false,
     "input": [
      "grid = BlockGrid(10, 10, fill=(123, 234, 123))"
     ],
     "language": "python",
     "metadata": {},
     "outputs": [],
     "prompt_number": 2
    },
    {
     "cell_type": "code",
     "collapsed": false,
     "input": [
      "grid"
     ],
     "language": "python",
     "metadata": {},
     "outputs": [
      {
       "html": [
        "<table><tbody><tr><td style=\"width: 10px; height: 10px; border: 1px solid white; background-color: rgb(123, 234, 123);\"></td><td style=\"width: 10px; height: 10px; border: 1px solid white; background-color: rgb(123, 234, 123);\"></td><td style=\"width: 10px; height: 10px; border: 1px solid white; background-color: rgb(123, 234, 123);\"></td><td style=\"width: 10px; height: 10px; border: 1px solid white; background-color: rgb(123, 234, 123);\"></td><td style=\"width: 10px; height: 10px; border: 1px solid white; background-color: rgb(123, 234, 123);\"></td><td style=\"width: 10px; height: 10px; border: 1px solid white; background-color: rgb(123, 234, 123);\"></td><td style=\"width: 10px; height: 10px; border: 1px solid white; background-color: rgb(123, 234, 123);\"></td><td style=\"width: 10px; height: 10px; border: 1px solid white; background-color: rgb(123, 234, 123);\"></td><td style=\"width: 10px; height: 10px; border: 1px solid white; background-color: rgb(123, 234, 123);\"></td><td style=\"width: 10px; height: 10px; border: 1px solid white; background-color: rgb(123, 234, 123);\"></td></tr><tr><td style=\"width: 10px; height: 10px; border: 1px solid white; background-color: rgb(123, 234, 123);\"></td><td style=\"width: 10px; height: 10px; border: 1px solid white; background-color: rgb(123, 234, 123);\"></td><td style=\"width: 10px; height: 10px; border: 1px solid white; background-color: rgb(123, 234, 123);\"></td><td style=\"width: 10px; height: 10px; border: 1px solid white; background-color: rgb(123, 234, 123);\"></td><td style=\"width: 10px; height: 10px; border: 1px solid white; background-color: rgb(123, 234, 123);\"></td><td style=\"width: 10px; height: 10px; border: 1px solid white; background-color: rgb(123, 234, 123);\"></td><td style=\"width: 10px; height: 10px; border: 1px solid white; background-color: rgb(123, 234, 123);\"></td><td style=\"width: 10px; height: 10px; border: 1px solid white; background-color: rgb(123, 234, 123);\"></td><td style=\"width: 10px; height: 10px; border: 1px solid white; background-color: rgb(123, 234, 123);\"></td><td style=\"width: 10px; height: 10px; border: 1px solid white; background-color: rgb(123, 234, 123);\"></td></tr><tr><td style=\"width: 10px; height: 10px; border: 1px solid white; background-color: rgb(123, 234, 123);\"></td><td style=\"width: 10px; height: 10px; border: 1px solid white; background-color: rgb(123, 234, 123);\"></td><td style=\"width: 10px; height: 10px; border: 1px solid white; background-color: rgb(123, 234, 123);\"></td><td style=\"width: 10px; height: 10px; border: 1px solid white; background-color: rgb(123, 234, 123);\"></td><td style=\"width: 10px; height: 10px; border: 1px solid white; background-color: rgb(123, 234, 123);\"></td><td style=\"width: 10px; height: 10px; border: 1px solid white; background-color: rgb(123, 234, 123);\"></td><td style=\"width: 10px; height: 10px; border: 1px solid white; background-color: rgb(123, 234, 123);\"></td><td style=\"width: 10px; height: 10px; border: 1px solid white; background-color: rgb(123, 234, 123);\"></td><td style=\"width: 10px; height: 10px; border: 1px solid white; background-color: rgb(123, 234, 123);\"></td><td style=\"width: 10px; height: 10px; border: 1px solid white; background-color: rgb(123, 234, 123);\"></td></tr><tr><td style=\"width: 10px; height: 10px; border: 1px solid white; background-color: rgb(123, 234, 123);\"></td><td style=\"width: 10px; height: 10px; border: 1px solid white; background-color: rgb(123, 234, 123);\"></td><td style=\"width: 10px; height: 10px; border: 1px solid white; background-color: rgb(123, 234, 123);\"></td><td style=\"width: 10px; height: 10px; border: 1px solid white; background-color: rgb(123, 234, 123);\"></td><td style=\"width: 10px; height: 10px; border: 1px solid white; background-color: rgb(123, 234, 123);\"></td><td style=\"width: 10px; height: 10px; border: 1px solid white; background-color: rgb(123, 234, 123);\"></td><td style=\"width: 10px; height: 10px; border: 1px solid white; background-color: rgb(123, 234, 123);\"></td><td style=\"width: 10px; height: 10px; border: 1px solid white; background-color: rgb(123, 234, 123);\"></td><td style=\"width: 10px; height: 10px; border: 1px solid white; background-color: rgb(123, 234, 123);\"></td><td style=\"width: 10px; height: 10px; border: 1px solid white; background-color: rgb(123, 234, 123);\"></td></tr><tr><td style=\"width: 10px; height: 10px; border: 1px solid white; background-color: rgb(123, 234, 123);\"></td><td style=\"width: 10px; height: 10px; border: 1px solid white; background-color: rgb(123, 234, 123);\"></td><td style=\"width: 10px; height: 10px; border: 1px solid white; background-color: rgb(123, 234, 123);\"></td><td style=\"width: 10px; height: 10px; border: 1px solid white; background-color: rgb(123, 234, 123);\"></td><td style=\"width: 10px; height: 10px; border: 1px solid white; background-color: rgb(123, 234, 123);\"></td><td style=\"width: 10px; height: 10px; border: 1px solid white; background-color: rgb(123, 234, 123);\"></td><td style=\"width: 10px; height: 10px; border: 1px solid white; background-color: rgb(123, 234, 123);\"></td><td style=\"width: 10px; height: 10px; border: 1px solid white; background-color: rgb(123, 234, 123);\"></td><td style=\"width: 10px; height: 10px; border: 1px solid white; background-color: rgb(123, 234, 123);\"></td><td style=\"width: 10px; height: 10px; border: 1px solid white; background-color: rgb(123, 234, 123);\"></td></tr><tr><td style=\"width: 10px; height: 10px; border: 1px solid white; background-color: rgb(123, 234, 123);\"></td><td style=\"width: 10px; height: 10px; border: 1px solid white; background-color: rgb(123, 234, 123);\"></td><td style=\"width: 10px; height: 10px; border: 1px solid white; background-color: rgb(123, 234, 123);\"></td><td style=\"width: 10px; height: 10px; border: 1px solid white; background-color: rgb(123, 234, 123);\"></td><td style=\"width: 10px; height: 10px; border: 1px solid white; background-color: rgb(123, 234, 123);\"></td><td style=\"width: 10px; height: 10px; border: 1px solid white; background-color: rgb(123, 234, 123);\"></td><td style=\"width: 10px; height: 10px; border: 1px solid white; background-color: rgb(123, 234, 123);\"></td><td style=\"width: 10px; height: 10px; border: 1px solid white; background-color: rgb(123, 234, 123);\"></td><td style=\"width: 10px; height: 10px; border: 1px solid white; background-color: rgb(123, 234, 123);\"></td><td style=\"width: 10px; height: 10px; border: 1px solid white; background-color: rgb(123, 234, 123);\"></td></tr><tr><td style=\"width: 10px; height: 10px; border: 1px solid white; background-color: rgb(123, 234, 123);\"></td><td style=\"width: 10px; height: 10px; border: 1px solid white; background-color: rgb(123, 234, 123);\"></td><td style=\"width: 10px; height: 10px; border: 1px solid white; background-color: rgb(123, 234, 123);\"></td><td style=\"width: 10px; height: 10px; border: 1px solid white; background-color: rgb(123, 234, 123);\"></td><td style=\"width: 10px; height: 10px; border: 1px solid white; background-color: rgb(123, 234, 123);\"></td><td style=\"width: 10px; height: 10px; border: 1px solid white; background-color: rgb(123, 234, 123);\"></td><td style=\"width: 10px; height: 10px; border: 1px solid white; background-color: rgb(123, 234, 123);\"></td><td style=\"width: 10px; height: 10px; border: 1px solid white; background-color: rgb(123, 234, 123);\"></td><td style=\"width: 10px; height: 10px; border: 1px solid white; background-color: rgb(123, 234, 123);\"></td><td style=\"width: 10px; height: 10px; border: 1px solid white; background-color: rgb(123, 234, 123);\"></td></tr><tr><td style=\"width: 10px; height: 10px; border: 1px solid white; background-color: rgb(123, 234, 123);\"></td><td style=\"width: 10px; height: 10px; border: 1px solid white; background-color: rgb(123, 234, 123);\"></td><td style=\"width: 10px; height: 10px; border: 1px solid white; background-color: rgb(123, 234, 123);\"></td><td style=\"width: 10px; height: 10px; border: 1px solid white; background-color: rgb(123, 234, 123);\"></td><td style=\"width: 10px; height: 10px; border: 1px solid white; background-color: rgb(123, 234, 123);\"></td><td style=\"width: 10px; height: 10px; border: 1px solid white; background-color: rgb(123, 234, 123);\"></td><td style=\"width: 10px; height: 10px; border: 1px solid white; background-color: rgb(123, 234, 123);\"></td><td style=\"width: 10px; height: 10px; border: 1px solid white; background-color: rgb(123, 234, 123);\"></td><td style=\"width: 10px; height: 10px; border: 1px solid white; background-color: rgb(123, 234, 123);\"></td><td style=\"width: 10px; height: 10px; border: 1px solid white; background-color: rgb(123, 234, 123);\"></td></tr><tr><td style=\"width: 10px; height: 10px; border: 1px solid white; background-color: rgb(123, 234, 123);\"></td><td style=\"width: 10px; height: 10px; border: 1px solid white; background-color: rgb(123, 234, 123);\"></td><td style=\"width: 10px; height: 10px; border: 1px solid white; background-color: rgb(123, 234, 123);\"></td><td style=\"width: 10px; height: 10px; border: 1px solid white; background-color: rgb(123, 234, 123);\"></td><td style=\"width: 10px; height: 10px; border: 1px solid white; background-color: rgb(123, 234, 123);\"></td><td style=\"width: 10px; height: 10px; border: 1px solid white; background-color: rgb(123, 234, 123);\"></td><td style=\"width: 10px; height: 10px; border: 1px solid white; background-color: rgb(123, 234, 123);\"></td><td style=\"width: 10px; height: 10px; border: 1px solid white; background-color: rgb(123, 234, 123);\"></td><td style=\"width: 10px; height: 10px; border: 1px solid white; background-color: rgb(123, 234, 123);\"></td><td style=\"width: 10px; height: 10px; border: 1px solid white; background-color: rgb(123, 234, 123);\"></td></tr><tr><td style=\"width: 10px; height: 10px; border: 1px solid white; background-color: rgb(123, 234, 123);\"></td><td style=\"width: 10px; height: 10px; border: 1px solid white; background-color: rgb(123, 234, 123);\"></td><td style=\"width: 10px; height: 10px; border: 1px solid white; background-color: rgb(123, 234, 123);\"></td><td style=\"width: 10px; height: 10px; border: 1px solid white; background-color: rgb(123, 234, 123);\"></td><td style=\"width: 10px; height: 10px; border: 1px solid white; background-color: rgb(123, 234, 123);\"></td><td style=\"width: 10px; height: 10px; border: 1px solid white; background-color: rgb(123, 234, 123);\"></td><td style=\"width: 10px; height: 10px; border: 1px solid white; background-color: rgb(123, 234, 123);\"></td><td style=\"width: 10px; height: 10px; border: 1px solid white; background-color: rgb(123, 234, 123);\"></td><td style=\"width: 10px; height: 10px; border: 1px solid white; background-color: rgb(123, 234, 123);\"></td><td style=\"width: 10px; height: 10px; border: 1px solid white; background-color: rgb(123, 234, 123);\"></td></tr></tbody></table>"
       ],
       "output_type": "pyout",
       "prompt_number": 3,
       "text": [
        "<ipythonblocks.BlockGrid at 0x1070ae750>"
       ]
      }
     ],
     "prompt_number": 3
    },
    {
     "cell_type": "code",
     "collapsed": false,
     "input": [
      "for r in xrange(grid.height):\n",
      "    for c in xrange(grid.width):\n",
      "        sq = grid[r, c]\n",
      "        sq.red = 100\n",
      "        \n",
      "        if r % 2 == 0:\n",
      "            sq.green = 15\n",
      "        else:\n",
      "            sq.green = 255\n",
      "        \n",
      "        if c % 2 == 0:\n",
      "            sq.blue = 15\n",
      "        else:\n",
      "            sq.blue = 255"
     ],
     "language": "python",
     "metadata": {},
     "outputs": [],
     "prompt_number": 4
    },
    {
     "cell_type": "code",
     "collapsed": false,
     "input": [
      "grid.show()"
     ],
     "language": "python",
     "metadata": {},
     "outputs": [
      {
       "html": [
        "<table><tbody><tr><td style=\"width: 10px; height: 10px; border: 1px solid white; background-color: rgb(100, 15, 15);\"></td><td style=\"width: 10px; height: 10px; border: 1px solid white; background-color: rgb(100, 15, 255);\"></td><td style=\"width: 10px; height: 10px; border: 1px solid white; background-color: rgb(100, 15, 15);\"></td><td style=\"width: 10px; height: 10px; border: 1px solid white; background-color: rgb(100, 15, 255);\"></td><td style=\"width: 10px; height: 10px; border: 1px solid white; background-color: rgb(100, 15, 15);\"></td><td style=\"width: 10px; height: 10px; border: 1px solid white; background-color: rgb(100, 15, 255);\"></td><td style=\"width: 10px; height: 10px; border: 1px solid white; background-color: rgb(100, 15, 15);\"></td><td style=\"width: 10px; height: 10px; border: 1px solid white; background-color: rgb(100, 15, 255);\"></td><td style=\"width: 10px; height: 10px; border: 1px solid white; background-color: rgb(100, 15, 15);\"></td><td style=\"width: 10px; height: 10px; border: 1px solid white; background-color: rgb(100, 15, 255);\"></td></tr><tr><td style=\"width: 10px; height: 10px; border: 1px solid white; background-color: rgb(100, 255, 15);\"></td><td style=\"width: 10px; height: 10px; border: 1px solid white; background-color: rgb(100, 255, 255);\"></td><td style=\"width: 10px; height: 10px; border: 1px solid white; background-color: rgb(100, 255, 15);\"></td><td style=\"width: 10px; height: 10px; border: 1px solid white; background-color: rgb(100, 255, 255);\"></td><td style=\"width: 10px; height: 10px; border: 1px solid white; background-color: rgb(100, 255, 15);\"></td><td style=\"width: 10px; height: 10px; border: 1px solid white; background-color: rgb(100, 255, 255);\"></td><td style=\"width: 10px; height: 10px; border: 1px solid white; background-color: rgb(100, 255, 15);\"></td><td style=\"width: 10px; height: 10px; border: 1px solid white; background-color: rgb(100, 255, 255);\"></td><td style=\"width: 10px; height: 10px; border: 1px solid white; background-color: rgb(100, 255, 15);\"></td><td style=\"width: 10px; height: 10px; border: 1px solid white; background-color: rgb(100, 255, 255);\"></td></tr><tr><td style=\"width: 10px; height: 10px; border: 1px solid white; background-color: rgb(100, 15, 15);\"></td><td style=\"width: 10px; height: 10px; border: 1px solid white; background-color: rgb(100, 15, 255);\"></td><td style=\"width: 10px; height: 10px; border: 1px solid white; background-color: rgb(100, 15, 15);\"></td><td style=\"width: 10px; height: 10px; border: 1px solid white; background-color: rgb(100, 15, 255);\"></td><td style=\"width: 10px; height: 10px; border: 1px solid white; background-color: rgb(100, 15, 15);\"></td><td style=\"width: 10px; height: 10px; border: 1px solid white; background-color: rgb(100, 15, 255);\"></td><td style=\"width: 10px; height: 10px; border: 1px solid white; background-color: rgb(100, 15, 15);\"></td><td style=\"width: 10px; height: 10px; border: 1px solid white; background-color: rgb(100, 15, 255);\"></td><td style=\"width: 10px; height: 10px; border: 1px solid white; background-color: rgb(100, 15, 15);\"></td><td style=\"width: 10px; height: 10px; border: 1px solid white; background-color: rgb(100, 15, 255);\"></td></tr><tr><td style=\"width: 10px; height: 10px; border: 1px solid white; background-color: rgb(100, 255, 15);\"></td><td style=\"width: 10px; height: 10px; border: 1px solid white; background-color: rgb(100, 255, 255);\"></td><td style=\"width: 10px; height: 10px; border: 1px solid white; background-color: rgb(100, 255, 15);\"></td><td style=\"width: 10px; height: 10px; border: 1px solid white; background-color: rgb(100, 255, 255);\"></td><td style=\"width: 10px; height: 10px; border: 1px solid white; background-color: rgb(100, 255, 15);\"></td><td style=\"width: 10px; height: 10px; border: 1px solid white; background-color: rgb(100, 255, 255);\"></td><td style=\"width: 10px; height: 10px; border: 1px solid white; background-color: rgb(100, 255, 15);\"></td><td style=\"width: 10px; height: 10px; border: 1px solid white; background-color: rgb(100, 255, 255);\"></td><td style=\"width: 10px; height: 10px; border: 1px solid white; background-color: rgb(100, 255, 15);\"></td><td style=\"width: 10px; height: 10px; border: 1px solid white; background-color: rgb(100, 255, 255);\"></td></tr><tr><td style=\"width: 10px; height: 10px; border: 1px solid white; background-color: rgb(100, 15, 15);\"></td><td style=\"width: 10px; height: 10px; border: 1px solid white; background-color: rgb(100, 15, 255);\"></td><td style=\"width: 10px; height: 10px; border: 1px solid white; background-color: rgb(100, 15, 15);\"></td><td style=\"width: 10px; height: 10px; border: 1px solid white; background-color: rgb(100, 15, 255);\"></td><td style=\"width: 10px; height: 10px; border: 1px solid white; background-color: rgb(100, 15, 15);\"></td><td style=\"width: 10px; height: 10px; border: 1px solid white; background-color: rgb(100, 15, 255);\"></td><td style=\"width: 10px; height: 10px; border: 1px solid white; background-color: rgb(100, 15, 15);\"></td><td style=\"width: 10px; height: 10px; border: 1px solid white; background-color: rgb(100, 15, 255);\"></td><td style=\"width: 10px; height: 10px; border: 1px solid white; background-color: rgb(100, 15, 15);\"></td><td style=\"width: 10px; height: 10px; border: 1px solid white; background-color: rgb(100, 15, 255);\"></td></tr><tr><td style=\"width: 10px; height: 10px; border: 1px solid white; background-color: rgb(100, 255, 15);\"></td><td style=\"width: 10px; height: 10px; border: 1px solid white; background-color: rgb(100, 255, 255);\"></td><td style=\"width: 10px; height: 10px; border: 1px solid white; background-color: rgb(100, 255, 15);\"></td><td style=\"width: 10px; height: 10px; border: 1px solid white; background-color: rgb(100, 255, 255);\"></td><td style=\"width: 10px; height: 10px; border: 1px solid white; background-color: rgb(100, 255, 15);\"></td><td style=\"width: 10px; height: 10px; border: 1px solid white; background-color: rgb(100, 255, 255);\"></td><td style=\"width: 10px; height: 10px; border: 1px solid white; background-color: rgb(100, 255, 15);\"></td><td style=\"width: 10px; height: 10px; border: 1px solid white; background-color: rgb(100, 255, 255);\"></td><td style=\"width: 10px; height: 10px; border: 1px solid white; background-color: rgb(100, 255, 15);\"></td><td style=\"width: 10px; height: 10px; border: 1px solid white; background-color: rgb(100, 255, 255);\"></td></tr><tr><td style=\"width: 10px; height: 10px; border: 1px solid white; background-color: rgb(100, 15, 15);\"></td><td style=\"width: 10px; height: 10px; border: 1px solid white; background-color: rgb(100, 15, 255);\"></td><td style=\"width: 10px; height: 10px; border: 1px solid white; background-color: rgb(100, 15, 15);\"></td><td style=\"width: 10px; height: 10px; border: 1px solid white; background-color: rgb(100, 15, 255);\"></td><td style=\"width: 10px; height: 10px; border: 1px solid white; background-color: rgb(100, 15, 15);\"></td><td style=\"width: 10px; height: 10px; border: 1px solid white; background-color: rgb(100, 15, 255);\"></td><td style=\"width: 10px; height: 10px; border: 1px solid white; background-color: rgb(100, 15, 15);\"></td><td style=\"width: 10px; height: 10px; border: 1px solid white; background-color: rgb(100, 15, 255);\"></td><td style=\"width: 10px; height: 10px; border: 1px solid white; background-color: rgb(100, 15, 15);\"></td><td style=\"width: 10px; height: 10px; border: 1px solid white; background-color: rgb(100, 15, 255);\"></td></tr><tr><td style=\"width: 10px; height: 10px; border: 1px solid white; background-color: rgb(100, 255, 15);\"></td><td style=\"width: 10px; height: 10px; border: 1px solid white; background-color: rgb(100, 255, 255);\"></td><td style=\"width: 10px; height: 10px; border: 1px solid white; background-color: rgb(100, 255, 15);\"></td><td style=\"width: 10px; height: 10px; border: 1px solid white; background-color: rgb(100, 255, 255);\"></td><td style=\"width: 10px; height: 10px; border: 1px solid white; background-color: rgb(100, 255, 15);\"></td><td style=\"width: 10px; height: 10px; border: 1px solid white; background-color: rgb(100, 255, 255);\"></td><td style=\"width: 10px; height: 10px; border: 1px solid white; background-color: rgb(100, 255, 15);\"></td><td style=\"width: 10px; height: 10px; border: 1px solid white; background-color: rgb(100, 255, 255);\"></td><td style=\"width: 10px; height: 10px; border: 1px solid white; background-color: rgb(100, 255, 15);\"></td><td style=\"width: 10px; height: 10px; border: 1px solid white; background-color: rgb(100, 255, 255);\"></td></tr><tr><td style=\"width: 10px; height: 10px; border: 1px solid white; background-color: rgb(100, 15, 15);\"></td><td style=\"width: 10px; height: 10px; border: 1px solid white; background-color: rgb(100, 15, 255);\"></td><td style=\"width: 10px; height: 10px; border: 1px solid white; background-color: rgb(100, 15, 15);\"></td><td style=\"width: 10px; height: 10px; border: 1px solid white; background-color: rgb(100, 15, 255);\"></td><td style=\"width: 10px; height: 10px; border: 1px solid white; background-color: rgb(100, 15, 15);\"></td><td style=\"width: 10px; height: 10px; border: 1px solid white; background-color: rgb(100, 15, 255);\"></td><td style=\"width: 10px; height: 10px; border: 1px solid white; background-color: rgb(100, 15, 15);\"></td><td style=\"width: 10px; height: 10px; border: 1px solid white; background-color: rgb(100, 15, 255);\"></td><td style=\"width: 10px; height: 10px; border: 1px solid white; background-color: rgb(100, 15, 15);\"></td><td style=\"width: 10px; height: 10px; border: 1px solid white; background-color: rgb(100, 15, 255);\"></td></tr><tr><td style=\"width: 10px; height: 10px; border: 1px solid white; background-color: rgb(100, 255, 15);\"></td><td style=\"width: 10px; height: 10px; border: 1px solid white; background-color: rgb(100, 255, 255);\"></td><td style=\"width: 10px; height: 10px; border: 1px solid white; background-color: rgb(100, 255, 15);\"></td><td style=\"width: 10px; height: 10px; border: 1px solid white; background-color: rgb(100, 255, 255);\"></td><td style=\"width: 10px; height: 10px; border: 1px solid white; background-color: rgb(100, 255, 15);\"></td><td style=\"width: 10px; height: 10px; border: 1px solid white; background-color: rgb(100, 255, 255);\"></td><td style=\"width: 10px; height: 10px; border: 1px solid white; background-color: rgb(100, 255, 15);\"></td><td style=\"width: 10px; height: 10px; border: 1px solid white; background-color: rgb(100, 255, 255);\"></td><td style=\"width: 10px; height: 10px; border: 1px solid white; background-color: rgb(100, 255, 15);\"></td><td style=\"width: 10px; height: 10px; border: 1px solid white; background-color: rgb(100, 255, 255);\"></td></tr></tbody></table>"
       ],
       "output_type": "pyout",
       "prompt_number": 5,
       "text": [
        "<IPython.core.display.HTML at 0x1070b8e50>"
       ]
      }
     ],
     "prompt_number": 5
    },
    {
     "cell_type": "code",
     "collapsed": false,
     "input": [
      "sub_grid = grid[:, 5]"
     ],
     "language": "python",
     "metadata": {},
     "outputs": [],
     "prompt_number": 7
    },
    {
     "cell_type": "code",
     "collapsed": false,
     "input": [
      "sub_grid"
     ],
     "language": "python",
     "metadata": {},
     "outputs": [
      {
       "html": [
        "<table><tbody><tr><td style=\"width: 10px; height: 10px; border: 1px solid white; background-color: rgb(100, 255, 15);\"></td><td style=\"width: 10px; height: 10px; border: 1px solid white; background-color: rgb(100, 255, 255);\"></td><td style=\"width: 10px; height: 10px; border: 1px solid white; background-color: rgb(100, 255, 15);\"></td><td style=\"width: 10px; height: 10px; border: 1px solid white; background-color: rgb(100, 255, 255);\"></td><td style=\"width: 10px; height: 10px; border: 1px solid white; background-color: rgb(100, 255, 15);\"></td><td style=\"width: 10px; height: 10px; border: 1px solid white; background-color: rgb(100, 255, 255);\"></td><td style=\"width: 10px; height: 10px; border: 1px solid white; background-color: rgb(100, 255, 15);\"></td><td style=\"width: 10px; height: 10px; border: 1px solid white; background-color: rgb(100, 255, 255);\"></td><td style=\"width: 10px; height: 10px; border: 1px solid white; background-color: rgb(100, 255, 15);\"></td><td style=\"width: 10px; height: 10px; border: 1px solid white; background-color: rgb(100, 255, 255);\"></td></tr></tbody></table>"
       ],
       "output_type": "pyout",
       "prompt_number": 8,
       "text": [
        "<ipythonblocks.BlockGrid at 0x1070b8e90>"
       ]
      }
     ],
     "prompt_number": 8
    },
    {
     "cell_type": "code",
     "collapsed": false,
     "input": [
      "for r in xrange(sub_grid.height):\n",
      "    for c in xrange(sub_grid.width):\n",
      "        sub_grid[r, c].red = 255"
     ],
     "language": "python",
     "metadata": {},
     "outputs": [],
     "prompt_number": 9
    },
    {
     "cell_type": "code",
     "collapsed": false,
     "input": [
      "sub_grid"
     ],
     "language": "python",
     "metadata": {},
     "outputs": [
      {
       "html": [
        "<table><tbody><tr><td style=\"width: 10px; height: 10px; border: 1px solid white; background-color: rgb(255, 255, 15);\"></td><td style=\"width: 10px; height: 10px; border: 1px solid white; background-color: rgb(255, 255, 255);\"></td><td style=\"width: 10px; height: 10px; border: 1px solid white; background-color: rgb(255, 255, 15);\"></td><td style=\"width: 10px; height: 10px; border: 1px solid white; background-color: rgb(255, 255, 255);\"></td><td style=\"width: 10px; height: 10px; border: 1px solid white; background-color: rgb(255, 255, 15);\"></td><td style=\"width: 10px; height: 10px; border: 1px solid white; background-color: rgb(255, 255, 255);\"></td><td style=\"width: 10px; height: 10px; border: 1px solid white; background-color: rgb(255, 255, 15);\"></td><td style=\"width: 10px; height: 10px; border: 1px solid white; background-color: rgb(255, 255, 255);\"></td><td style=\"width: 10px; height: 10px; border: 1px solid white; background-color: rgb(255, 255, 15);\"></td><td style=\"width: 10px; height: 10px; border: 1px solid white; background-color: rgb(255, 255, 255);\"></td></tr></tbody></table>"
       ],
       "output_type": "pyout",
       "prompt_number": 10,
       "text": [
        "<ipythonblocks.BlockGrid at 0x1070b8e90>"
       ]
      }
     ],
     "prompt_number": 10
    },
    {
     "cell_type": "code",
     "collapsed": false,
     "input": [
      "grid"
     ],
     "language": "python",
     "metadata": {},
     "outputs": [
      {
       "html": [
        "<table><tbody><tr><td style=\"width: 10px; height: 10px; border: 1px solid white; background-color: rgb(100, 15, 15);\"></td><td style=\"width: 10px; height: 10px; border: 1px solid white; background-color: rgb(100, 15, 255);\"></td><td style=\"width: 10px; height: 10px; border: 1px solid white; background-color: rgb(100, 15, 15);\"></td><td style=\"width: 10px; height: 10px; border: 1px solid white; background-color: rgb(100, 15, 255);\"></td><td style=\"width: 10px; height: 10px; border: 1px solid white; background-color: rgb(100, 15, 15);\"></td><td style=\"width: 10px; height: 10px; border: 1px solid white; background-color: rgb(100, 15, 255);\"></td><td style=\"width: 10px; height: 10px; border: 1px solid white; background-color: rgb(100, 15, 15);\"></td><td style=\"width: 10px; height: 10px; border: 1px solid white; background-color: rgb(100, 15, 255);\"></td><td style=\"width: 10px; height: 10px; border: 1px solid white; background-color: rgb(100, 15, 15);\"></td><td style=\"width: 10px; height: 10px; border: 1px solid white; background-color: rgb(100, 15, 255);\"></td></tr><tr><td style=\"width: 10px; height: 10px; border: 1px solid white; background-color: rgb(100, 255, 15);\"></td><td style=\"width: 10px; height: 10px; border: 1px solid white; background-color: rgb(100, 255, 255);\"></td><td style=\"width: 10px; height: 10px; border: 1px solid white; background-color: rgb(100, 255, 15);\"></td><td style=\"width: 10px; height: 10px; border: 1px solid white; background-color: rgb(100, 255, 255);\"></td><td style=\"width: 10px; height: 10px; border: 1px solid white; background-color: rgb(100, 255, 15);\"></td><td style=\"width: 10px; height: 10px; border: 1px solid white; background-color: rgb(100, 255, 255);\"></td><td style=\"width: 10px; height: 10px; border: 1px solid white; background-color: rgb(100, 255, 15);\"></td><td style=\"width: 10px; height: 10px; border: 1px solid white; background-color: rgb(100, 255, 255);\"></td><td style=\"width: 10px; height: 10px; border: 1px solid white; background-color: rgb(100, 255, 15);\"></td><td style=\"width: 10px; height: 10px; border: 1px solid white; background-color: rgb(100, 255, 255);\"></td></tr><tr><td style=\"width: 10px; height: 10px; border: 1px solid white; background-color: rgb(100, 15, 15);\"></td><td style=\"width: 10px; height: 10px; border: 1px solid white; background-color: rgb(100, 15, 255);\"></td><td style=\"width: 10px; height: 10px; border: 1px solid white; background-color: rgb(100, 15, 15);\"></td><td style=\"width: 10px; height: 10px; border: 1px solid white; background-color: rgb(100, 15, 255);\"></td><td style=\"width: 10px; height: 10px; border: 1px solid white; background-color: rgb(100, 15, 15);\"></td><td style=\"width: 10px; height: 10px; border: 1px solid white; background-color: rgb(100, 15, 255);\"></td><td style=\"width: 10px; height: 10px; border: 1px solid white; background-color: rgb(100, 15, 15);\"></td><td style=\"width: 10px; height: 10px; border: 1px solid white; background-color: rgb(100, 15, 255);\"></td><td style=\"width: 10px; height: 10px; border: 1px solid white; background-color: rgb(100, 15, 15);\"></td><td style=\"width: 10px; height: 10px; border: 1px solid white; background-color: rgb(100, 15, 255);\"></td></tr><tr><td style=\"width: 10px; height: 10px; border: 1px solid white; background-color: rgb(100, 255, 15);\"></td><td style=\"width: 10px; height: 10px; border: 1px solid white; background-color: rgb(100, 255, 255);\"></td><td style=\"width: 10px; height: 10px; border: 1px solid white; background-color: rgb(100, 255, 15);\"></td><td style=\"width: 10px; height: 10px; border: 1px solid white; background-color: rgb(100, 255, 255);\"></td><td style=\"width: 10px; height: 10px; border: 1px solid white; background-color: rgb(100, 255, 15);\"></td><td style=\"width: 10px; height: 10px; border: 1px solid white; background-color: rgb(100, 255, 255);\"></td><td style=\"width: 10px; height: 10px; border: 1px solid white; background-color: rgb(100, 255, 15);\"></td><td style=\"width: 10px; height: 10px; border: 1px solid white; background-color: rgb(100, 255, 255);\"></td><td style=\"width: 10px; height: 10px; border: 1px solid white; background-color: rgb(100, 255, 15);\"></td><td style=\"width: 10px; height: 10px; border: 1px solid white; background-color: rgb(100, 255, 255);\"></td></tr><tr><td style=\"width: 10px; height: 10px; border: 1px solid white; background-color: rgb(100, 15, 15);\"></td><td style=\"width: 10px; height: 10px; border: 1px solid white; background-color: rgb(100, 15, 255);\"></td><td style=\"width: 10px; height: 10px; border: 1px solid white; background-color: rgb(100, 15, 15);\"></td><td style=\"width: 10px; height: 10px; border: 1px solid white; background-color: rgb(100, 15, 255);\"></td><td style=\"width: 10px; height: 10px; border: 1px solid white; background-color: rgb(100, 15, 15);\"></td><td style=\"width: 10px; height: 10px; border: 1px solid white; background-color: rgb(100, 15, 255);\"></td><td style=\"width: 10px; height: 10px; border: 1px solid white; background-color: rgb(100, 15, 15);\"></td><td style=\"width: 10px; height: 10px; border: 1px solid white; background-color: rgb(100, 15, 255);\"></td><td style=\"width: 10px; height: 10px; border: 1px solid white; background-color: rgb(100, 15, 15);\"></td><td style=\"width: 10px; height: 10px; border: 1px solid white; background-color: rgb(100, 15, 255);\"></td></tr><tr><td style=\"width: 10px; height: 10px; border: 1px solid white; background-color: rgb(100, 255, 15);\"></td><td style=\"width: 10px; height: 10px; border: 1px solid white; background-color: rgb(100, 255, 255);\"></td><td style=\"width: 10px; height: 10px; border: 1px solid white; background-color: rgb(100, 255, 15);\"></td><td style=\"width: 10px; height: 10px; border: 1px solid white; background-color: rgb(100, 255, 255);\"></td><td style=\"width: 10px; height: 10px; border: 1px solid white; background-color: rgb(100, 255, 15);\"></td><td style=\"width: 10px; height: 10px; border: 1px solid white; background-color: rgb(100, 255, 255);\"></td><td style=\"width: 10px; height: 10px; border: 1px solid white; background-color: rgb(100, 255, 15);\"></td><td style=\"width: 10px; height: 10px; border: 1px solid white; background-color: rgb(100, 255, 255);\"></td><td style=\"width: 10px; height: 10px; border: 1px solid white; background-color: rgb(100, 255, 15);\"></td><td style=\"width: 10px; height: 10px; border: 1px solid white; background-color: rgb(100, 255, 255);\"></td></tr><tr><td style=\"width: 10px; height: 10px; border: 1px solid white; background-color: rgb(100, 15, 15);\"></td><td style=\"width: 10px; height: 10px; border: 1px solid white; background-color: rgb(100, 15, 255);\"></td><td style=\"width: 10px; height: 10px; border: 1px solid white; background-color: rgb(100, 15, 15);\"></td><td style=\"width: 10px; height: 10px; border: 1px solid white; background-color: rgb(100, 15, 255);\"></td><td style=\"width: 10px; height: 10px; border: 1px solid white; background-color: rgb(100, 15, 15);\"></td><td style=\"width: 10px; height: 10px; border: 1px solid white; background-color: rgb(100, 15, 255);\"></td><td style=\"width: 10px; height: 10px; border: 1px solid white; background-color: rgb(100, 15, 15);\"></td><td style=\"width: 10px; height: 10px; border: 1px solid white; background-color: rgb(100, 15, 255);\"></td><td style=\"width: 10px; height: 10px; border: 1px solid white; background-color: rgb(100, 15, 15);\"></td><td style=\"width: 10px; height: 10px; border: 1px solid white; background-color: rgb(100, 15, 255);\"></td></tr><tr><td style=\"width: 10px; height: 10px; border: 1px solid white; background-color: rgb(100, 255, 15);\"></td><td style=\"width: 10px; height: 10px; border: 1px solid white; background-color: rgb(100, 255, 255);\"></td><td style=\"width: 10px; height: 10px; border: 1px solid white; background-color: rgb(100, 255, 15);\"></td><td style=\"width: 10px; height: 10px; border: 1px solid white; background-color: rgb(100, 255, 255);\"></td><td style=\"width: 10px; height: 10px; border: 1px solid white; background-color: rgb(100, 255, 15);\"></td><td style=\"width: 10px; height: 10px; border: 1px solid white; background-color: rgb(100, 255, 255);\"></td><td style=\"width: 10px; height: 10px; border: 1px solid white; background-color: rgb(100, 255, 15);\"></td><td style=\"width: 10px; height: 10px; border: 1px solid white; background-color: rgb(100, 255, 255);\"></td><td style=\"width: 10px; height: 10px; border: 1px solid white; background-color: rgb(100, 255, 15);\"></td><td style=\"width: 10px; height: 10px; border: 1px solid white; background-color: rgb(100, 255, 255);\"></td></tr><tr><td style=\"width: 10px; height: 10px; border: 1px solid white; background-color: rgb(100, 15, 15);\"></td><td style=\"width: 10px; height: 10px; border: 1px solid white; background-color: rgb(100, 15, 255);\"></td><td style=\"width: 10px; height: 10px; border: 1px solid white; background-color: rgb(100, 15, 15);\"></td><td style=\"width: 10px; height: 10px; border: 1px solid white; background-color: rgb(100, 15, 255);\"></td><td style=\"width: 10px; height: 10px; border: 1px solid white; background-color: rgb(100, 15, 15);\"></td><td style=\"width: 10px; height: 10px; border: 1px solid white; background-color: rgb(100, 15, 255);\"></td><td style=\"width: 10px; height: 10px; border: 1px solid white; background-color: rgb(100, 15, 15);\"></td><td style=\"width: 10px; height: 10px; border: 1px solid white; background-color: rgb(100, 15, 255);\"></td><td style=\"width: 10px; height: 10px; border: 1px solid white; background-color: rgb(100, 15, 15);\"></td><td style=\"width: 10px; height: 10px; border: 1px solid white; background-color: rgb(100, 15, 255);\"></td></tr><tr><td style=\"width: 10px; height: 10px; border: 1px solid white; background-color: rgb(100, 255, 15);\"></td><td style=\"width: 10px; height: 10px; border: 1px solid white; background-color: rgb(100, 255, 255);\"></td><td style=\"width: 10px; height: 10px; border: 1px solid white; background-color: rgb(100, 255, 15);\"></td><td style=\"width: 10px; height: 10px; border: 1px solid white; background-color: rgb(100, 255, 255);\"></td><td style=\"width: 10px; height: 10px; border: 1px solid white; background-color: rgb(100, 255, 15);\"></td><td style=\"width: 10px; height: 10px; border: 1px solid white; background-color: rgb(100, 255, 255);\"></td><td style=\"width: 10px; height: 10px; border: 1px solid white; background-color: rgb(100, 255, 15);\"></td><td style=\"width: 10px; height: 10px; border: 1px solid white; background-color: rgb(100, 255, 255);\"></td><td style=\"width: 10px; height: 10px; border: 1px solid white; background-color: rgb(100, 255, 15);\"></td><td style=\"width: 10px; height: 10px; border: 1px solid white; background-color: rgb(100, 255, 255);\"></td></tr></tbody></table>"
       ],
       "output_type": "pyout",
       "prompt_number": 11,
       "text": [
        "<ipythonblocks.BlockGrid at 0x1070ae750>"
       ]
      }
     ],
     "prompt_number": 11
    },
    {
     "cell_type": "code",
     "collapsed": false,
     "input": [],
     "language": "python",
     "metadata": {},
     "outputs": []
    }
   ],
   "metadata": {}
  }
 ]
}